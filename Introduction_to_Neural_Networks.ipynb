{
  "nbformat": 4,
  "nbformat_minor": 0,
  "metadata": {
    "colab": {
      "name": "Introduction to Neural Networks.ipynb",
      "provenance": [],
      "toc_visible": true,
      "authorship_tag": "ABX9TyNCp4MFgCdyOeh1UsMQWxmn",
      "include_colab_link": true
    },
    "kernelspec": {
      "name": "python3",
      "display_name": "Python 3"
    },
    "language_info": {
      "name": "python"
    }
  },
  "cells": [
    {
      "cell_type": "markdown",
      "metadata": {
        "id": "view-in-github",
        "colab_type": "text"
      },
      "source": [
        "<a href=\"https://colab.research.google.com/github/kpjaskie/Education/blob/main/Introduction_to_Neural_Networks.ipynb\" target=\"_parent\"><img src=\"https://colab.research.google.com/assets/colab-badge.svg\" alt=\"Open In Colab\"/></a>"
      ]
    },
    {
      "cell_type": "markdown",
      "source": [
        "# Neural Networks Introduction\n",
        "\n",
        "&#169; *Kristen Jaskie, Feb 2022*\n",
        "\n",
        "In this notebook, we will be using Neural Networks to solve simple classification problems using both sklearn and tensorflow.  The simple networks we will be using are sometimes called multi-layer preceptrons, or MLPs. MLPs are shallow neural networks (as opposed to deep learning networks), meaning that they usually only have a couple of hidden layers rather than many layers and filters, as in deep learning.  \n",
        "\n",
        "These networks generally have the following structure:\n",
        "\n",
        "\n",
        "![picture](https://www.tutorialspoint.com/tensorflow/images/multi_layer_perceptron.jpg)\n",
        "\n",
        "Mathematically, this can be shown by:\n",
        "\n",
        "![picture](https://scikit-learn.org/stable/_images/multilayerperceptron_network.png)"
      ],
      "metadata": {
        "id": "x3Yoob78cvqs"
      }
    },
    {
      "cell_type": "code",
      "source": [
        "# First, we need to import the relavent libraries\n",
        "\n",
        "# General libraries\n",
        "%matplotlib inline\n",
        "import matplotlib.pyplot as plt\n",
        "import numpy as np\n",
        "import random\n",
        "import pandas as pd\n",
        "from sklearn.model_selection import train_test_split\n",
        "\n",
        "# For creating an MLP manually\n",
        "from sklearn.neural_network import MLPClassifier\n",
        "\n",
        "# For creating an MLP using Tensorflow\n",
        "import tensorflow as tf\n",
        "\n",
        "# To create confusion matrices and metrics\n",
        "from sklearn.metrics import confusion_matrix\n",
        "from sklearn.metrics import accuracy_score\n",
        "from sklearn.metrics import precision_score\n",
        "from sklearn.metrics import recall_score\n",
        "from sklearn.metrics import f1_score\n",
        "\n",
        "import seaborn as sns; sns.set()  # for plotting confusion matrices\n",
        "from tabulate import tabulate"
      ],
      "metadata": {
        "id": "U4-_9QrCdWSp"
      },
      "execution_count": 1,
      "outputs": []
    },
    {
      "cell_type": "markdown",
      "source": [
        "# Load Data\n",
        "We're going to use the MNIST dataset for these excercises as it is standard for introducing classification."
      ],
      "metadata": {
        "id": "fr5Q20aUeaUU"
      }
    },
    {
      "cell_type": "code",
      "source": [
        "#We can get MNIST from tensorflow\n",
        "mnist = tf.keras.datasets.mnist\n",
        "\n",
        "#Load data set\n",
        "(x_train, y_train),(x_test, y_test) = mnist.load_data()"
      ],
      "metadata": {
        "id": "rhoeebr-evf6"
      },
      "execution_count": 2,
      "outputs": []
    },
    {
      "cell_type": "code",
      "source": [
        "#@title Select Classes\n",
        "Positive_class = '3' #@param [\"1\", \"2\", \"3\", \"4\", \"5\", \"6\", \"7\", \"8\", \"9\"]\n",
        "Negative_class = '5' #@param [\"1\", \"2\", \"3\", \"4\", \"5\", \"6\", \"7\", \"8\", \"9\"]\n",
        "assert (Positive_class is not Negative_class), \\\n",
        "          \"Positive and negative sets must be different\"\n",
        "\n",
        "digit_P = int(Positive_class)\n",
        "digit_N = int(Negative_class)\n",
        "\n",
        "#isolate desired digits\n",
        "X_train_P = x_train[y_train == digit_P,:,:]\n",
        "X_train_N = x_train[y_train == digit_N,:,:]\n",
        "\n",
        "X_test_P = x_test[y_test == digit_P,:,:]\n",
        "X_test_N = x_test[y_test == digit_N,:,:]\n",
        "\n",
        "#normalize data so all values are between 0 and 1\n",
        "X_train_P = X_train_P / 255 \n",
        "X_train_N = X_train_N / 255\n",
        "X_test_P = X_test_P / 255 \n",
        "X_test_N = X_test_N / 255"
      ],
      "metadata": {
        "id": "D841hEsCfNU_"
      },
      "execution_count": 3,
      "outputs": []
    },
    {
      "cell_type": "markdown",
      "source": [
        "# Display Data"
      ],
      "metadata": {
        "id": "jtPOhqHhijft"
      }
    },
    {
      "cell_type": "code",
      "source": [
        "print(\"\\nClassifying \", digit_P, \" verses \", digit_N)\n",
        "print(\"\\nShape of original dataset X: \", x_train.shape)\n",
        "print(\"Shape of original labels y: \", y_train.shape)\n",
        "\n",
        "print('\\nTraining Data:')\n",
        "print(\"X_Positive: \", X_train_P.shape)\n",
        "print(\"X_Negative: \", X_train_N.shape)\n",
        "print('\\nTesting Data:')\n",
        "print(\"X_Positive: \", X_test_P.shape)\n",
        "print(\"X_Negative: \", X_test_N.shape)\n",
        "\n",
        "def show_MNIST_images(images):\n",
        "  # visualize random 2x4 subset of images\n",
        "  nrows = 2\n",
        "  ncols = 4\n",
        "\n",
        "  # Set up matplotlib fig, and size it to fit \n",
        "  fig = plt.gcf()\n",
        "  fig.set_size_inches(ncols * 3, nrows * 3)\n",
        "\n",
        "  # choose random images to display\n",
        "  for i in range(nrows * ncols):\n",
        "    pic_index = random.randint(0, len(images)-1)\n",
        "    sp = plt.subplot(nrows, ncols, i + 1)\n",
        "    sp.axis('Off')\n",
        "\n",
        "    plt.imshow(images[pic_index])\n",
        "\n",
        "  plt.show()\n",
        "\n",
        "print(\"\\nSome images from the positive and negative sets: \")\n",
        "show_MNIST_images(X_train_P)\n",
        "show_MNIST_images(X_train_N)"
      ],
      "metadata": {
        "colab": {
          "base_uri": "https://localhost:8080/",
          "height": 951
        },
        "id": "1oU0v6YAfibd",
        "outputId": "4b938734-edcd-4c88-c72e-cd83b2e84d2e"
      },
      "execution_count": 4,
      "outputs": [
        {
          "output_type": "stream",
          "name": "stdout",
          "text": [
            "\n",
            "Classifying  3  verses  5\n",
            "\n",
            "Shape of original dataset X:  (60000, 28, 28)\n",
            "Shape of original labels y:  (60000,)\n",
            "\n",
            "Training Data:\n",
            "X_Positive:  (6131, 28, 28)\n",
            "X_Negative:  (5421, 28, 28)\n",
            "\n",
            "Testing Data:\n",
            "X_Positive:  (1010, 28, 28)\n",
            "X_Negative:  (892, 28, 28)\n",
            "\n",
            "Some images from the positive and negative sets: \n"
          ]
        },
        {
          "output_type": "display_data",
          "data": {
            "image/png": "[encoded data removed]",
            "text/plain": [
              "<Figure size 864x432 with 8 Axes>"
            ]
          },
          "metadata": {
            "needs_background": "light"
          }
        },
        {
          "output_type": "display_data",
          "data": {
            "image/png": "[encoded data removed]",
            "text/plain": [
              "<Figure size 864x432 with 8 Axes>"
            ]
          },
          "metadata": {
            "needs_background": "light"
          }
        }
      ]
    },
    {
      "cell_type": "markdown",
      "source": [
        "# Combine and Flatten Dataset\n",
        "The data needs to be flattened so that each digit is represened by a single 28x28 = 784 long array for classification, and then both digits combined into a single dataset and shuffled, for both the training and testing sets."
      ],
      "metadata": {
        "id": "WxUZ4uAtnjpx"
      }
    },
    {
      "cell_type": "code",
      "source": [
        "X_train_P_flat = X_train_P.reshape(X_train_P.shape[0], X_train_P.shape[1]*X_train_P.shape[2])\n",
        "X_train_N_flat = X_train_N.reshape(X_train_N.shape[0], X_train_N.shape[1]*X_train_N.shape[2])\n",
        "\n",
        "X_test_P_flat = X_test_P.reshape(X_test_P.shape[0], X_test_P.shape[1]*X_test_P.shape[2])\n",
        "X_test_N_flat = X_test_N.reshape(X_test_N.shape[0], X_test_N.shape[1]*X_test_N.shape[2])\n",
        "\n",
        "print('Training Data:')\n",
        "print(\"X_Positive flattened: \", X_train_P_flat.shape)\n",
        "print(\"X_Negative flattened: \", X_train_N_flat.shape)\n",
        "print('\\nTesting Data:')\n",
        "print(\"X_Positive flattened: \", X_test_P_flat.shape)\n",
        "print(\"X_Negative flattened: \", X_test_N_flat.shape)"
      ],
      "metadata": {
        "colab": {
          "base_uri": "https://localhost:8080/"
        },
        "id": "ybPhMXo5ngBE",
        "outputId": "d19d1de4-8e4f-49f8-a626-4500b13b1383"
      },
      "execution_count": 5,
      "outputs": [
        {
          "output_type": "stream",
          "name": "stdout",
          "text": [
            "Training Data:\n",
            "X_Positive flattened:  (6131, 784)\n",
            "X_Negative flattened:  (5421, 784)\n",
            "\n",
            "Testing Data:\n",
            "X_Positive flattened:  (1010, 784)\n",
            "X_Negative flattened:  (892, 784)\n"
          ]
        }
      ]
    },
    {
      "cell_type": "code",
      "source": [
        "# Combine training and testing data into datasets\n",
        "X_train_val = np.concatenate((X_train_P_flat, X_train_N_flat))\n",
        "X_test = np.concatenate((X_test_P_flat, X_test_N_flat))\n",
        "\n",
        "# Create y vectors out of ones and zeros to match positive and negatives in data\n",
        "y_train_val = np.concatenate((np.ones((X_train_P.shape[0], 1)), np.zeros((X_train_N.shape[0],1))))\n",
        "y_test = np.concatenate((np.ones((X_test_P.shape[0], 1)), np.zeros((X_test_N.shape[0],1))))\n",
        "\n",
        "# Shuffle data and labels in sync\n",
        "shuffle_order_train = np.random.permutation(X_train_val.shape[0])\n",
        "X_train_val = X_train_val[shuffle_order_train,:]\n",
        "y_train_val = y_train_val[shuffle_order_train,]\n",
        "\n",
        "shuffle_order_test = np.random.permutation(X_test.shape[0])\n",
        "X_test = X_test[shuffle_order_test,:]\n",
        "y_test = y_test[shuffle_order_test,]\n",
        "\n",
        "# Print sizes to confirm correct\n",
        "print('Training and Validation Data:')\n",
        "print(\"X_train_val: \", X_train_val.shape)\n",
        "print(\"y_train_val: \", y_train_val.shape)\n",
        "print('\\nTesting Data:')\n",
        "print(\"X_test: \", X_test.shape)\n",
        "print(\"y_test: \", y_test.shape)"
      ],
      "metadata": {
        "colab": {
          "base_uri": "https://localhost:8080/"
        },
        "id": "ZnJ1TS3goyaq",
        "outputId": "941b11f4-dfbc-45b8-e928-f2dcf8e1022c"
      },
      "execution_count": 6,
      "outputs": [
        {
          "output_type": "stream",
          "name": "stdout",
          "text": [
            "Training and Validation Data:\n",
            "X_train_val:  (11552, 784)\n",
            "y_train_val:  (11552, 1)\n",
            "\n",
            "Testing Data:\n",
            "X_test:  (1902, 784)\n",
            "y_test:  (1902, 1)\n"
          ]
        }
      ]
    },
    {
      "cell_type": "markdown",
      "source": [
        "# Split into Train/Validation/Test Sets\n",
        "We're going to reserve the test data for final testing and split our training data into training and validation sets"
      ],
      "metadata": {
        "id": "Wbdo97f4sV2N"
      }
    },
    {
      "cell_type": "code",
      "source": [
        "#Here, our training set is composed of 70% of the training data and our validation\n",
        "#set is 30% of the training data\n",
        "X_train, X_val, y_train, y_val = train_test_split(X_train_val, y_train_val, test_size=0.7)"
      ],
      "metadata": {
        "id": "CmNsGXO_sUSP"
      },
      "execution_count": 7,
      "outputs": []
    },
    {
      "cell_type": "markdown",
      "source": [
        "# Sklearn\n",
        "\n",
        "We're going to create an MLP using Sklearn.  We're definitely going to have to do some hyperparameter tuning on this - neural nets have more hyperparameters than most other methods.\n",
        "\n",
        "Here, our hyperparameters consist of:\n",
        "* The number of hidden layers\n",
        "* The number of hidden nodes in each hidden layer\n",
        "* The activation function which can be ‘identity’, ‘logistic’, ‘tanh’, or ‘relu’ ('relu' is fairly standard).  See the documentation for more details.\n",
        "* The type of solver which can be ‘lbfgs’, ‘sgd’, or ‘adam’.  'sgd' is standard gradiant descent, while 'adam' is a specialized version of gradient descent ('adam' is fairly standard)\n",
        "* The max_iter specifies the maximum number of iterations.\n",
        "\n",
        "The following code automatically tests a variety of hidden layers and hidden nodes though it uses the standard 'relu' activation function and 'adam' solver.  Feel free to play with these as well.\n",
        "\n",
        "If you want to see more options, take a look at the documentation:\n",
        "\n",
        "https://scikit-learn.org/stable/modules/generated/sklearn.neural_network.MLPClassifier.html?highlight=mlp#sklearn.neural_network.MLPClassifier"
      ],
      "metadata": {
        "id": "AOxQ4MVLmmpL"
      }
    },
    {
      "cell_type": "code",
      "source": [
        "#@title Tune Hyperparameters and Train Network\n",
        "\n",
        "#@markdown Set the hidden layers and hidden nodes in the code\n",
        "Activation = 'relu' #@param [\"relu\", \"identity\", \"logistic\", \"tanh\"]\n",
        "Solver = 'adam' #@param [\"adam\",\"lbfgs\", \"sgd\"]\n",
        "Maximum_Iterations = 1000 #@param {type:\"slider\", min:0, max:10000, step:100}\n",
        "\n",
        "# The number of nodes in each hidden layer is specified in this first field\n",
        "# Each additional layer is then specified \n",
        "NN_classify_model = MLPClassifier(hidden_layer_sizes=(20,10), \n",
        "                                     activation=Activation, \n",
        "                                     solver=Solver, \n",
        "                                     max_iter=Maximum_Iterations)\n",
        "\n",
        "\n",
        "NN_classify_model.fit(X_train, y_train)\n",
        "y_hat_train = NN_classify_model.predict(X_train)\n",
        "y_hat_val = NN_classify_model.predict(X_val)\n",
        "\n",
        "train_accuracy = accuracy_score(y_train, y_hat_train)\n",
        "val_accuracy = accuracy_score(y_val, y_hat_val)\n",
        "print('Training Accuracy: ', train_accuracy)\n",
        "print('Validation Accuracy: ', val_accuracy)"
      ],
      "metadata": {
        "colab": {
          "base_uri": "https://localhost:8080/"
        },
        "id": "m7GbVwmnmrCE",
        "outputId": "be9e73bc-48fc-446d-8fb4-7916221694b2"
      },
      "execution_count": 8,
      "outputs": [
        {
          "output_type": "stream",
          "name": "stderr",
          "text": [
            "/usr/local/lib/python3.7/dist-packages/sklearn/neural_network/_multilayer_perceptron.py:1109: DataConversionWarning: A column-vector y was passed when a 1d array was expected. Please change the shape of y to (n_samples, ), for example using ravel().\n",
            "  y = column_or_1d(y, warn=True)\n"
          ]
        },
        {
          "output_type": "stream",
          "name": "stdout",
          "text": [
            "Training Accuracy:  1.0\n",
            "Validation Accuracy:  0.9818226783726969\n"
          ]
        }
      ]
    },
    {
      "cell_type": "code",
      "source": [
        "#@title Test Final Model Performance on test data\n",
        "\n",
        "NN_classify_model.fit(X_train_val, y_train_val) #train on ALL data\n",
        "y_hat_test = NN_classify_model.predict(X_test)\n",
        "\n",
        "test_accuracy = accuracy_score(y_test, y_hat_test)\n",
        "print('Final Test Accuracy: ', test_accuracy)"
      ],
      "metadata": {
        "colab": {
          "base_uri": "https://localhost:8080/"
        },
        "id": "-MXyRSlWuSmv",
        "outputId": "e7940340-74b9-4859-c29a-2c014a3b5e96"
      },
      "execution_count": 10,
      "outputs": [
        {
          "output_type": "stream",
          "name": "stderr",
          "text": [
            "/usr/local/lib/python3.7/dist-packages/sklearn/neural_network/_multilayer_perceptron.py:1109: DataConversionWarning: A column-vector y was passed when a 1d array was expected. Please change the shape of y to (n_samples, ), for example using ravel().\n",
            "  y = column_or_1d(y, warn=True)\n"
          ]
        },
        {
          "output_type": "stream",
          "name": "stdout",
          "text": [
            "Final Test Accuracy:  0.9915878023133544\n"
          ]
        }
      ]
    },
    {
      "cell_type": "code",
      "source": [
        "#@title Evaluate Final Model\n",
        "\n",
        "accuracy_nn_final = round(accuracy_score(y_test, y_hat_test), 3)\n",
        "precision_nn_final = round(precision_score(y_test, y_hat_test), 3)\n",
        "recall_nn_final = round(recall_score(y_test, y_hat_test), 3)\n",
        "fscore_nn_final = round(f1_score(y_test, y_hat_test), 3)\n",
        "\n",
        "print(tabulate([['Accuracy', accuracy_nn_final], \n",
        "                ['Precision', precision_nn_final],\n",
        "                ['Recall', recall_nn_final],\n",
        "                ['F-score', fscore_nn_final],\n",
        "                [' ', ' ']], \n",
        "               headers=['Metric', 'Value']))\n",
        "\n",
        "CM_nn = confusion_matrix(y_test, y_hat_test)\n",
        "\n",
        "ax = sns.heatmap(CM_nn.T, square=True, annot=True, \n",
        "                 fmt='d', cbar=False, cmap=\"Blues\")\n",
        "\n",
        "ax.set_xticklabels(('Red Class','Green Class'))\n",
        "ax.set_yticklabels(('Red Class','Green Class'), \n",
        "    rotation=0, fontsize=\"10\", va=\"center\")\n",
        "\n",
        "plt.xlabel(\"True Labels\")\n",
        "plt.ylabel(\"Predicted Labels\");\n",
        "plt.title(\"NN Final Test Confusion Matrix\")\n",
        "plt.show()"
      ],
      "metadata": {
        "colab": {
          "base_uri": "https://localhost:8080/",
          "height": 423
        },
        "id": "w-0fzgeW1FtS",
        "outputId": "a50ed0ff-2c20-432b-d4c5-f4b653cf8144"
      },
      "execution_count": 11,
      "outputs": [
        {
          "output_type": "stream",
          "name": "stdout",
          "text": [
            "Metric     Value\n",
            "---------  -------\n",
            "Accuracy   0.992\n",
            "Precision  0.992\n",
            "Recall     0.992\n",
            "F-score    0.992\n",
            "\n"
          ]
        },
        {
          "output_type": "display_data",
          "data": {
            "image/png": "[encoded data removed]",
            "text/plain": [
              "<Figure size 432x288 with 1 Axes>"
            ]
          },
          "metadata": {
            "needs_background": "light"
          }
        }
      ]
    },
    {
      "cell_type": "markdown",
      "source": [
        "# Tensorflow\n",
        "\n",
        "Here, we're going to do the same as above, just using tensorflow instead of sklearn."
      ],
      "metadata": {
        "id": "6s4NFkqr1ad1"
      }
    },
    {
      "cell_type": "code",
      "source": [
        "#@title Design our MLP Neural Network\n",
        "\n",
        "# Create a neural net in tensorflow using keras\n",
        "neural_net = tf.keras.Sequential()\n",
        "\n",
        "# Remember how the images were 28x28?  Here tensorflow can do the flattening for us\n",
        "# neural_net.add(tf.keras.layers.Flatten(input_shape=(28,28)))\n",
        "# However, since our data is already flattened, we're going to use that\n",
        "neural_net.add(tf.keras.layers.Input(28*28,))\n",
        "\n",
        "# As before, we can add hidden layers with however many neurons we want in each\n",
        "neural_net.add(tf.keras.layers.Dense(3, activation='relu'))\n",
        "neural_net.add(tf.keras.layers.Dense(3, activation='relu'))\n",
        "\n",
        "# As we're performing binary classification, our output neuron should be a sigmoid\n",
        "neural_net.add(tf.keras.layers.Dense(1, activation='sigmoid'))\n",
        "neural_net.summary()"
      ],
      "metadata": {
        "colab": {
          "base_uri": "https://localhost:8080/"
        },
        "id": "yaTSkJZs1fKP",
        "outputId": "8a1de84e-343e-47db-f737-36acaa138442"
      },
      "execution_count": 16,
      "outputs": [
        {
          "output_type": "stream",
          "name": "stdout",
          "text": [
            "Model: \"sequential_1\"\n",
            "_________________________________________________________________\n",
            " Layer (type)                Output Shape              Param #   \n",
            "=================================================================\n",
            " dense_3 (Dense)             (None, 3)                 2355      \n",
            "                                                                 \n",
            " dense_4 (Dense)             (None, 3)                 12        \n",
            "                                                                 \n",
            " dense_5 (Dense)             (None, 1)                 4         \n",
            "                                                                 \n",
            "=================================================================\n",
            "Total params: 2,371\n",
            "Trainable params: 2,371\n",
            "Non-trainable params: 0\n",
            "_________________________________________________________________\n"
          ]
        }
      ]
    },
    {
      "cell_type": "code",
      "source": [
        "#@title Train our MLP\n",
        "\n",
        "#@markdown As before, set hyperparameters\n",
        "Solver = 'adam' #@param [\"adam\",\"lbfgs\", \"sgd\"]\n",
        "Loss = 'binary_crossentropy' #@param [\"binary_crossentropy\"]\n",
        "Metrics = 'acc' #@param [\"acc\"]\n",
        "Epochs = 10 #@param {type:\"slider\", min:0, max:100, step:1}\n",
        "\n",
        "neural_net.compile(Solver,loss=Loss,metrics=['acc'])\n",
        "model_history = neural_net.fit(X_train, y_train, \n",
        "                               validation_split=0.4,\n",
        "                               batch_size=32, epochs=Epochs)"
      ],
      "metadata": {
        "colab": {
          "base_uri": "https://localhost:8080/"
        },
        "id": "2cAthoac3Xk-",
        "outputId": "f2aa4658-d1f8-406b-f70d-56205878823d"
      },
      "execution_count": 17,
      "outputs": [
        {
          "output_type": "stream",
          "name": "stdout",
          "text": [
            "Epoch 1/10\n",
            "65/65 [==============================] - 1s 5ms/step - loss: 0.6495 - acc: 0.5455 - val_loss: 0.6006 - val_acc: 0.5642\n",
            "Epoch 2/10\n",
            "65/65 [==============================] - 0s 3ms/step - loss: 0.5596 - acc: 0.6272 - val_loss: 0.5132 - val_acc: 0.7100\n",
            "Epoch 3/10\n",
            "65/65 [==============================] - 0s 3ms/step - loss: 0.4809 - acc: 0.7629 - val_loss: 0.4405 - val_acc: 0.8095\n",
            "Epoch 4/10\n",
            "65/65 [==============================] - 0s 3ms/step - loss: 0.4184 - acc: 0.8523 - val_loss: 0.3892 - val_acc: 0.8968\n",
            "Epoch 5/10\n",
            "65/65 [==============================] - 0s 3ms/step - loss: 0.3744 - acc: 0.8995 - val_loss: 0.3558 - val_acc: 0.9221\n",
            "Epoch 6/10\n",
            "65/65 [==============================] - 0s 3ms/step - loss: 0.3446 - acc: 0.9240 - val_loss: 0.3328 - val_acc: 0.9372\n",
            "Epoch 7/10\n",
            "65/65 [==============================] - 0s 3ms/step - loss: 0.3233 - acc: 0.9365 - val_loss: 0.3147 - val_acc: 0.9466\n",
            "Epoch 8/10\n",
            "65/65 [==============================] - 0s 3ms/step - loss: 0.3032 - acc: 0.9471 - val_loss: 0.3042 - val_acc: 0.9372\n",
            "Epoch 9/10\n",
            "65/65 [==============================] - 0s 3ms/step - loss: 0.2885 - acc: 0.9490 - val_loss: 0.2884 - val_acc: 0.9488\n",
            "Epoch 10/10\n",
            "65/65 [==============================] - 0s 4ms/step - loss: 0.2730 - acc: 0.9548 - val_loss: 0.2775 - val_acc: 0.9444\n"
          ]
        }
      ]
    },
    {
      "cell_type": "code",
      "source": [
        "#@title Plot training and validation accuracy\n",
        "#-----------------------------------------------------------\n",
        "# Retrieve a list of list results on training and test data\n",
        "# sets for each training epoch\n",
        "#-----------------------------------------------------------\n",
        "acc=model_history.history['acc']\n",
        "val_acc=model_history.history['val_acc']\n",
        "loss=model_history.history['loss']\n",
        "val_loss=model_history.history['val_loss']\n",
        "\n",
        "epochs=range(len(acc)) # Get number of epochs\n",
        "\n",
        "#------------------------------------------------\n",
        "# Plot training and validation accuracy per epoch\n",
        "#------------------------------------------------\n",
        "plt.plot(epochs, acc, 'r', \"Training Accuracy\")\n",
        "plt.plot(epochs, val_acc, 'b', \"Validation Accuracy\")\n",
        "plt.title('Training and validation accuracy')\n",
        "plt.figure()"
      ],
      "metadata": {
        "colab": {
          "base_uri": "https://localhost:8080/",
          "height": 319
        },
        "id": "EySD73kd64xB",
        "outputId": "ee2880a2-edb8-4e38-b9b2-28a057620be3"
      },
      "execution_count": 18,
      "outputs": [
        {
          "output_type": "execute_result",
          "data": {
            "text/plain": [
              "<Figure size 432x288 with 0 Axes>"
            ]
          },
          "metadata": {},
          "execution_count": 18
        },
        {
          "output_type": "display_data",
          "data": {
            "image/png": "[encoded data removed]",
            "text/plain": [
              "<Figure size 432x288 with 1 Axes>"
            ]
          },
          "metadata": {
            "needs_background": "light"
          }
        },
        {
          "output_type": "display_data",
          "data": {
            "text/plain": [
              "<Figure size 432x288 with 0 Axes>"
            ]
          },
          "metadata": {}
        }
      ]
    },
    {
      "cell_type": "code",
      "source": [
        "#@title Test Final Model Performance on test data\n",
        "model_history = neural_net.fit(X_test, y_test, \n",
        "                               batch_size=32, epochs=Epochs)"
      ],
      "metadata": {
        "colab": {
          "base_uri": "https://localhost:8080/"
        },
        "id": "de1-xds57dvo",
        "outputId": "83b81853-85fc-468c-825b-7548d4b95b31"
      },
      "execution_count": 19,
      "outputs": [
        {
          "output_type": "stream",
          "name": "stdout",
          "text": [
            "Epoch 1/10\n",
            "60/60 [==============================] - 0s 2ms/step - loss: 0.2662 - acc: 0.9585\n",
            "Epoch 2/10\n",
            "60/60 [==============================] - 0s 2ms/step - loss: 0.2501 - acc: 0.9627\n",
            "Epoch 3/10\n",
            "60/60 [==============================] - 0s 2ms/step - loss: 0.2380 - acc: 0.9648\n",
            "Epoch 4/10\n",
            "60/60 [==============================] - 0s 2ms/step - loss: 0.2251 - acc: 0.9700\n",
            "Epoch 5/10\n",
            "60/60 [==============================] - 0s 2ms/step - loss: 0.2147 - acc: 0.9711\n",
            "Epoch 6/10\n",
            "60/60 [==============================] - 0s 2ms/step - loss: 0.2050 - acc: 0.9737\n",
            "Epoch 7/10\n",
            "60/60 [==============================] - 0s 2ms/step - loss: 0.1960 - acc: 0.9779\n",
            "Epoch 8/10\n",
            "60/60 [==============================] - 0s 2ms/step - loss: 0.1871 - acc: 0.9748\n",
            "Epoch 9/10\n",
            "60/60 [==============================] - 0s 2ms/step - loss: 0.1791 - acc: 0.9779\n",
            "Epoch 10/10\n",
            "60/60 [==============================] - 0s 2ms/step - loss: 0.1716 - acc: 0.9800\n"
          ]
        }
      ]
    },
    {
      "cell_type": "markdown",
      "source": [
        "# Multiclass classification\n",
        "It's just as easy to classify all digits against one another, as it is to compare two images.  Most of the work above was to isolate two images and perform data manipulation to get the datasets in the shape and format that we wanted them in.\n",
        "\n",
        "To do multiclass classification, the final network layer should have ten neurons to represent the ten digits:\n",
        "\n",
        "> neural_net.add(tf.keras.layers.Dense(10, activation='softmax'))\n",
        "\n",
        "And the training code should include the categorical_crossentropy rather than the binary_crossentropy and look like:\n",
        "\n",
        "* neural_net.compile('adam', loss='categorical_crossentropy',metrics=['accuracy'])\n",
        "* num_classes = 10\n",
        "* y_train = tf.keras.utils.to_categorical(y_train, num_classes=num_classes)\n",
        "* y_test = tf.keras.utils.to_categorical(y_test, num_classes=num_classes)\n",
        "\n"
      ],
      "metadata": {
        "id": "6jcwoSFb78m9"
      }
    },
    {
      "cell_type": "markdown",
      "source": [
        "Your turn!"
      ],
      "metadata": {
        "id": "jKfoxqJLBbKN"
      }
    }
  ]
}